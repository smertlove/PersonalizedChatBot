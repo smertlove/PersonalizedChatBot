{
 "cells": [
  {
   "cell_type": "code",
   "execution_count": 1,
   "id": "c34bd2ea",
   "metadata": {},
   "outputs": [
    {
     "name": "stderr",
     "output_type": "stream",
     "text": [
      "/home/smertlove/sandbox/hse/PCB_experiments/.venv/lib/python3.10/site-packages/tqdm/auto.py:21: TqdmWarning: IProgress not found. Please update jupyter and ipywidgets. See https://ipywidgets.readthedocs.io/en/stable/user_install.html\n",
      "  from .autonotebook import tqdm as notebook_tqdm\n"
     ]
    }
   ],
   "source": [
    "from src import ChatBot"
   ]
  },
  {
   "cell_type": "code",
   "execution_count": 2,
   "id": "2ede551b",
   "metadata": {},
   "outputs": [
    {
     "name": "stderr",
     "output_type": "stream",
     "text": [
      "Device set to use cuda\n"
     ]
    }
   ],
   "source": [
    "chatbot = ChatBot()"
   ]
  },
  {
   "cell_type": "code",
   "execution_count": 3,
   "id": "d1e22354",
   "metadata": {},
   "outputs": [
    {
     "name": "stdout",
     "output_type": "stream",
     "text": [
      "Эти факты будут подсунуты в промпт:\n",
      "['1986-88-60 00:25:24 - The death of kurt cobain marred my middle school years',\n",
      " '1986-88-60 00:25:24 - but i cannot make myself go alone',\n",
      " '1986-88-60 00:25:24 - I still like combat boots with babydoll dresses',\n",
      " '1986-88-60 00:25:24 - I want to visit rome ',\n",
      " '1986-88-60 00:25:24 - I am taking courses online',\n",
      " '1986-88-60 00:25:24 - I am engaged',\n",
      " '1986-88-60 00:25:24 - I flirted with the dmv officer in order to pass my '\n",
      " 'driving exam',\n",
      " '1986-88-60 00:25:24 - I like ice cream',\n",
      " '1986-88-60 00:25:24 - I work as a contractor for a cab company',\n",
      " '1986-88-60 00:25:24 - I love rock music']\n",
      "Ответ модели:\n",
      "That’s a tough situation! It sounds like you’re feeling a lot of pressure and wanting to enjoy Genshin Impact, but your parents’ rules are making it difficult. Perhaps you could talk to them about why you want to play and see if they’re open to a compromise?\n"
     ]
    }
   ],
   "source": [
    "print(chatbot.response(\"I really want to play Genshin Impact all night, but I'm afraid my parents will punish me.\"))"
   ]
  },
  {
   "cell_type": "code",
   "execution_count": 4,
   "id": "e29fe746",
   "metadata": {},
   "outputs": [
    {
     "name": "stdout",
     "output_type": "stream",
     "text": [
      "Эти факты будут подсунуты в промпт:\n",
      "['2023-09-16 22:20:32 - I m not afraid to die',\n",
      " '2023-03-13 09:37:35 - I m currently unemployed so i have time to write',\n",
      " '2021-07-21 00:10:22 - My favorite book is the tale of genji',\n",
      " '2021-08-27 20:14:34 - I love anime',\n",
      " '2020-05-13 17:38:28 - My favorite hero is flash',\n",
      " '2023-03-11 02:12:40 - I am afraid of the dark',\n",
      " '2023-07-23 12:52:50 - I do not have a job',\n",
      " '2022-12-29 16:29:43 - My favorite mob player is barolo colon',\n",
      " '2022-09-22 18:37:39 - My boyfriend is unemployed']\n",
      "Ответ модели:\n",
      "Yes, absolutely! Your love of anime and especially your favorite hero, Flash, definitely points to an anime enthusiast. The fact that you’re unemployed and have a boyfriend who is also unemployed suggests you’re likely experiencing a lot of challenges right now – that’s a common theme with many anime fans!\n"
     ]
    }
   ],
   "source": [
    "print(chatbot.response(\"Am I an anime fan?\"))"
   ]
  },
  {
   "cell_type": "code",
   "execution_count": 5,
   "id": "ce0b0ed5",
   "metadata": {},
   "outputs": [
    {
     "name": "stdout",
     "output_type": "stream",
     "text": [
      "Эти факты будут подсунуты в промпт:\n",
      "['2023-12-31 17:14:48 - I am currently unemployed so i have time to write',\n",
      " '2023-09-27 07:54:19 - I am not afraid of what others think',\n",
      " '2023-07-23 12:52:50 - I do not have a job',\n",
      " '2023-09-16 22:20:32 - I m not afraid to die',\n",
      " '2023-03-11 02:12:40 - I am afraid of the dark',\n",
      " '2020-05-13 17:38:28 - My favorite hero is flash',\n",
      " '2020-01-28 13:58:42 - I am 25 years old and live with my parents',\n",
      " '2022-12-29 16:29:43 - My favorite mob player is barolo colon',\n",
      " '2020-10-01 00:40:56 - My biggest fear in life is heights',\n",
      " '2021-07-21 00:10:22 - My favorite book is the tale of genji',\n",
      " '2022-09-22 18:37:39 - My boyfriend is unemployed',\n",
      " '2020-12-20 01:27:09 - I live in my parents basement',\n",
      " '2021-08-27 20:14:34 - I love anime']\n",
      "Ответ модели:\n",
      "You’re 25 years old.\n"
     ]
    }
   ],
   "source": [
    "print(chatbot.response(\"How old am I?\"))"
   ]
  },
  {
   "cell_type": "code",
   "execution_count": null,
   "id": "6f651549",
   "metadata": {},
   "outputs": [],
   "source": []
  }
 ],
 "metadata": {
  "kernelspec": {
   "display_name": ".venv",
   "language": "python",
   "name": "python3"
  },
  "language_info": {
   "codemirror_mode": {
    "name": "ipython",
    "version": 3
   },
   "file_extension": ".py",
   "mimetype": "text/x-python",
   "name": "python",
   "nbconvert_exporter": "python",
   "pygments_lexer": "ipython3",
   "version": "3.10.12"
  }
 },
 "nbformat": 4,
 "nbformat_minor": 5
}
