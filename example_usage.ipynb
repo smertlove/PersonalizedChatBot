{
 "cells": [
  {
   "cell_type": "code",
   "execution_count": 1,
   "id": "c34bd2ea",
   "metadata": {},
   "outputs": [
    {
     "name": "stderr",
     "output_type": "stream",
     "text": [
      "/home/smertlove/sandbox/hse/PersonalizedChatBot/.venv/lib/python3.10/site-packages/tqdm/auto.py:21: TqdmWarning: IProgress not found. Please update jupyter and ipywidgets. See https://ipywidgets.readthedocs.io/en/stable/user_install.html\n",
      "  from .autonotebook import tqdm as notebook_tqdm\n"
     ]
    }
   ],
   "source": [
    "from src import ChatBot"
   ]
  },
  {
   "cell_type": "code",
   "execution_count": 2,
   "id": "2ede551b",
   "metadata": {},
   "outputs": [
    {
     "name": "stdout",
     "output_type": "stream",
     "text": [
      "Init cold start...\n",
      "Init extractor...\n",
      "Init db retriever...\n",
      "Init generator...\n"
     ]
    },
    {
     "name": "stderr",
     "output_type": "stream",
     "text": [
      "Device set to use cuda\n"
     ]
    },
    {
     "name": "stdout",
     "output_type": "stream",
     "text": [
      "Ready!!\n"
     ]
    }
   ],
   "source": [
    "chatbot = ChatBot()"
   ]
  },
  {
   "cell_type": "code",
   "execution_count": 3,
   "id": "f19f8a93",
   "metadata": {},
   "outputs": [
    {
     "name": "stdout",
     "output_type": "stream",
     "text": [
      "Эти факты будут подсунуты в промпт:\n",
      "['1986-88-60 00:25:24 - I vacation along lake michigan every summer.',\n",
      " '1986-88-60 00:25:24 - I m in a jazz band and play the saxophone.',\n",
      " '1986-88-60 00:25:24 - I still live at home with my parents.My favorite drink '\n",
      " 'is iced coffee.',\n",
      " '1986-88-60 00:25:24 - I play video games all day.',\n",
      " '1986-88-60 00:25:24 - I have a black belt in karate.',\n",
      " '1986-88-60 00:25:24 - I do not want a job.',\n",
      " '1986-88-60 00:25:24 - I am 32.']\n",
      "That’s great to hear you’re enjoying your summer vacation at Lake Michigan and keeping up with your hobbies! It’s wonderful that you’re prioritizing your passions, whether it’s playing music, practicing karate, or enjoying a classic iced coffee.\n"
     ]
    }
   ],
   "source": [
    "print(chatbot.response(\"\"\"\n",
    "I am 32. I do not want a job. I play video games all day. I still live at home with my parents. My favorite drink is iced coffee. I have a black belt in karate. I m in a jazz band and play the saxophone. I vacation along lake michigan every summer.\n",
    "\"\"\"))"
   ]
  },
  {
   "cell_type": "code",
   "execution_count": 4,
   "id": "d1e22354",
   "metadata": {},
   "outputs": [
    {
     "name": "stdout",
     "output_type": "stream",
     "text": [
      "Эти факты будут подсунуты в промпт:\n",
      "['2025-05-08 14:04:13 - i live with my parents',\n",
      " '2025-05-08 14:04:13 - i be 32',\n",
      " '2025-05-08 14:04:13 - i m in a jazz band',\n",
      " '2025-05-08 14:04:13 - i play video games',\n",
      " '2025-05-08 14:04:13 - i have a black belt in karate']\n",
      "It sounds like you’re facing a challenging situation – wanting to dedicate all your time to Genshin Impact while also respecting your parents’ rules. Perhaps discussing a compromise with them could be helpful?\n"
     ]
    }
   ],
   "source": [
    "print(chatbot.response(\"I really want to play Genshin Impact all night, but I'm afraid my parents will punish me.\"))"
   ]
  },
  {
   "cell_type": "code",
   "execution_count": 5,
   "id": "e29fe746",
   "metadata": {},
   "outputs": [
    {
     "name": "stdout",
     "output_type": "stream",
     "text": [
      "Эти факты будут подсунуты в промпт:\n",
      "['2025-05-08 14:04:13 - i be 32',\n",
      " '2025-05-08 14:04:15 - i want to play genshin impact',\n",
      " '2025-05-08 14:04:13 - i m in a jazz band',\n",
      " '2025-05-08 14:04:13 - i play video games',\n",
      " '2025-05-08 14:04:13 - i live with my parents']\n",
      "It’s interesting you’re asking! Given your interests in jazz, video games, and your love for Genshin Impact, it sounds like you might enjoy anime!\n"
     ]
    }
   ],
   "source": [
    "print(chatbot.response(\"Am I an anime fan?\"))"
   ]
  },
  {
   "cell_type": "code",
   "execution_count": 7,
   "id": "ce0b0ed5",
   "metadata": {},
   "outputs": [
    {
     "name": "stdout",
     "output_type": "stream",
     "text": [
      "Эти факты будут подсунуты в промпт:\n",
      "['2025-05-08 14:04:16 - i be an anime fan',\n",
      " '2025-05-08 14:04:13 - i have a black belt in karate',\n",
      " '2025-05-08 14:04:13 - i live with my parents',\n",
      " '2025-05-08 14:04:13 - i not want a job',\n",
      " '2025-05-08 14:04:13 - i m in a jazz band',\n",
      " '2025-05-08 14:04:13 - i play video games',\n",
      " '2025-05-08 14:04:13 - i be 32']\n",
      "You are 32 years old.\n"
     ]
    }
   ],
   "source": [
    "print(chatbot.response(\"How old am I?\"))"
   ]
  },
  {
   "cell_type": "code",
   "execution_count": 8,
   "id": "6c490837",
   "metadata": {},
   "outputs": [
    {
     "name": "stdout",
     "output_type": "stream",
     "text": [
      "Deleting 0) i be 32\n",
      "Эти факты будут подсунуты в промпт:\n",
      "['2025-05-08 14:04:16 - i be an anime fan',\n",
      " '2025-05-08 14:04:13 - i live with my parents',\n",
      " '2025-05-08 14:04:13 - i play video games',\n",
      " '2025-05-08 14:04:13 - i m in a jazz band']\n",
      "You’re 25 years old.\n"
     ]
    }
   ],
   "source": [
    "print(chatbot.response(\"I am 25.\"))"
   ]
  },
  {
   "cell_type": "code",
   "execution_count": 9,
   "id": "56a3631f",
   "metadata": {},
   "outputs": [
    {
     "name": "stdout",
     "output_type": "stream",
     "text": [
      "Эти факты будут подсунуты в промпт:\n",
      "['2025-05-08 14:04:26 - i be 25',\n",
      " '2025-05-08 14:04:13 - i have a black belt in karate',\n",
      " '2025-05-08 14:04:16 - i be an anime fan',\n",
      " '2025-05-08 14:04:13 - i not want a job',\n",
      " '2025-05-08 14:04:13 - i m in a jazz band',\n",
      " '2025-05-08 14:04:13 - i play video games',\n",
      " '2025-05-08 14:04:13 - i live with my parents']\n",
      "You are 25 years old.\n"
     ]
    }
   ],
   "source": [
    "print(chatbot.response(\"How old am I?\"))"
   ]
  },
  {
   "cell_type": "code",
   "execution_count": null,
   "id": "a56ea9b1",
   "metadata": {},
   "outputs": [],
   "source": []
  }
 ],
 "metadata": {
  "kernelspec": {
   "display_name": ".venv",
   "language": "python",
   "name": "python3"
  },
  "language_info": {
   "codemirror_mode": {
    "name": "ipython",
    "version": 3
   },
   "file_extension": ".py",
   "mimetype": "text/x-python",
   "name": "python",
   "nbconvert_exporter": "python",
   "pygments_lexer": "ipython3",
   "version": "3.10.12"
  }
 },
 "nbformat": 4,
 "nbformat_minor": 5
}
