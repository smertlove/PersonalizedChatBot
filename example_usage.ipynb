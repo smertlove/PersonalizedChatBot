{
 "cells": [
  {
   "cell_type": "code",
   "execution_count": 1,
   "id": "c34bd2ea",
   "metadata": {},
   "outputs": [
    {
     "name": "stderr",
     "output_type": "stream",
     "text": [
      "/home/smertlove/sandbox/hse/PCB_experiments/.venv/lib/python3.10/site-packages/tqdm/auto.py:21: TqdmWarning: IProgress not found. Please update jupyter and ipywidgets. See https://ipywidgets.readthedocs.io/en/stable/user_install.html\n",
      "  from .autonotebook import tqdm as notebook_tqdm\n"
     ]
    }
   ],
   "source": [
    "from src import ChatBot"
   ]
  },
  {
   "cell_type": "code",
   "execution_count": 2,
   "id": "2ede551b",
   "metadata": {},
   "outputs": [
    {
     "name": "stderr",
     "output_type": "stream",
     "text": [
      "Device set to use cuda\n"
     ]
    }
   ],
   "source": [
    "chatbot = ChatBot()"
   ]
  },
  {
   "cell_type": "code",
   "execution_count": 3,
   "id": "d1e22354",
   "metadata": {},
   "outputs": [
    {
     "name": "stdout",
     "output_type": "stream",
     "text": [
      "Эти факты будут подсунуты в промпт:\n",
      "['2024-08-04 14:01:55 - I still live with my parents',\n",
      " '2022-11-21 09:25:04 - I am an anime fan',\n",
      " '2023-03-11 02:12:40 - I am afraid of the dark',\n",
      " '2023-09-16 22:20:32 - I m not afraid to die',\n",
      " '2023-07-23 12:52:50 - I do not have a job',\n",
      " '2022-12-29 16:29:43 - My favorite mob player is barolo colon',\n",
      " '2020-05-13 17:38:28 - My favorite hero is flash',\n",
      " '2023-12-31 17:14:48 - I am currently unemployed so i have time to write',\n",
      " '2023-09-27 07:54:19 - I am not afraid of what others think',\n",
      " '2020-05-05 03:16:03 - The future scares me',\n",
      " '2022-09-22 18:37:39 - My boyfriend is unemployed',\n",
      " '2021-07-21 00:10:22 - My favorite book is the tale of genji',\n",
      " '2021-09-07 18:08:49 - I am currently unemployed']\n",
      "Ответ модели:\n",
      "It’s understandable to want to escape your worries, and it’s good you’re prioritizing your mental health. Considering your fear of disappointing your parents and the potential for negative consequences, perhaps setting a strict time limit for your Genshin Impact session could help alleviate some of the anxiety.\n"
     ]
    }
   ],
   "source": [
    "print(chatbot.response(\"I really want to play Genshin Impact all night, but I'm afraid my parents will punish me.\"))"
   ]
  }
 ],
 "metadata": {
  "kernelspec": {
   "display_name": ".venv",
   "language": "python",
   "name": "python3"
  },
  "language_info": {
   "codemirror_mode": {
    "name": "ipython",
    "version": 3
   },
   "file_extension": ".py",
   "mimetype": "text/x-python",
   "name": "python",
   "nbconvert_exporter": "python",
   "pygments_lexer": "ipython3",
   "version": "3.10.12"
  }
 },
 "nbformat": 4,
 "nbformat_minor": 5
}
